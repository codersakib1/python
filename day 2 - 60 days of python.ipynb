{
 "cells": [
  {
   "cell_type": "code",
   "execution_count": 9,
   "id": "252d524c",
   "metadata": {},
   "outputs": [
    {
     "data": {
      "text/plain": [
       "'data science'"
      ]
     },
     "execution_count": 9,
     "metadata": {},
     "output_type": "execute_result"
    }
   ],
   "source": [
    "'data science'"
   ]
  },
  {
   "cell_type": "markdown",
   "id": "1d3a1ad2",
   "metadata": {},
   "source": [
    "# heading"
   ]
  },
  {
   "cell_type": "code",
   "execution_count": 10,
   "id": "73b712d0",
   "metadata": {},
   "outputs": [
    {
     "name": "stdout",
     "output_type": "stream",
     "text": [
      "Hello World, welcome to 60 days of python\n"
     ]
    }
   ],
   "source": [
    "print('Hello World, welcome to 60 days of python')"
   ]
  },
  {
   "cell_type": "code",
   "execution_count": 11,
   "id": "4454c843",
   "metadata": {},
   "outputs": [
    {
     "name": "stdout",
     "output_type": "stream",
     "text": [
      "hello world\n"
     ]
    }
   ],
   "source": [
    "var = 'hello world'\n",
    "print(var)"
   ]
  },
  {
   "cell_type": "code",
   "execution_count": 12,
   "id": "5a02c454",
   "metadata": {},
   "outputs": [
    {
     "name": "stdout",
     "output_type": "stream",
     "text": [
      "var\n"
     ]
    }
   ],
   "source": [
    "var='Hello World'\n",
    "print('var')"
   ]
  },
  {
   "cell_type": "code",
   "execution_count": 15,
   "id": "dd29e711",
   "metadata": {},
   "outputs": [
    {
     "name": "stdout",
     "output_type": "stream",
     "text": [
      "Hello World\n",
      "My Sentence is Hello World\n"
     ]
    }
   ],
   "source": [
    "var='Hello World'\n",
    "print(var)\n",
    "\n",
    "print('My Sentence is '+ var)"
   ]
  },
  {
   "cell_type": "code",
   "execution_count": 16,
   "id": "16a6e090",
   "metadata": {},
   "outputs": [
    {
     "data": {
      "text/plain": [
       "2141858657648"
      ]
     },
     "execution_count": 16,
     "metadata": {},
     "output_type": "execute_result"
    }
   ],
   "source": [
    "id (var)"
   ]
  },
  {
   "cell_type": "code",
   "execution_count": 17,
   "id": "e8e5e754",
   "metadata": {},
   "outputs": [
    {
     "data": {
      "text/plain": [
       "60"
      ]
     },
     "execution_count": 17,
     "metadata": {},
     "output_type": "execute_result"
    }
   ],
   "source": [
    "import sys\n",
    "sys.getsizeof(var)"
   ]
  },
  {
   "cell_type": "code",
   "execution_count": 1,
   "id": "574a2455",
   "metadata": {},
   "outputs": [],
   "source": [
    "x =100"
   ]
  },
  {
   "cell_type": "code",
   "execution_count": 2,
   "id": "b453b0ff",
   "metadata": {},
   "outputs": [],
   "source": [
    "y=100"
   ]
  },
  {
   "cell_type": "code",
   "execution_count": 3,
   "id": "d9add073",
   "metadata": {},
   "outputs": [
    {
     "data": {
      "text/plain": [
       "140710911254408"
      ]
     },
     "execution_count": 3,
     "metadata": {},
     "output_type": "execute_result"
    }
   ],
   "source": [
    "id(x)"
   ]
  },
  {
   "cell_type": "code",
   "execution_count": 4,
   "id": "00d7609a",
   "metadata": {},
   "outputs": [
    {
     "data": {
      "text/plain": [
       "140710911254408"
      ]
     },
     "execution_count": 4,
     "metadata": {},
     "output_type": "execute_result"
    }
   ],
   "source": [
    "id(y)"
   ]
  },
  {
   "cell_type": "code",
   "execution_count": 1,
   "id": "2a9122d1",
   "metadata": {},
   "outputs": [
    {
     "name": "stdout",
     "output_type": "stream",
     "text": [
      "data science fun!\n"
     ]
    }
   ],
   "source": [
    "data = input()"
   ]
  }
 ],
 "metadata": {
  "kernelspec": {
   "display_name": "Python 3 (ipykernel)",
   "language": "python",
   "name": "python3"
  },
  "language_info": {
   "codemirror_mode": {
    "name": "ipython",
    "version": 3
   },
   "file_extension": ".py",
   "mimetype": "text/x-python",
   "name": "python",
   "nbconvert_exporter": "python",
   "pygments_lexer": "ipython3",
   "version": "3.11.5"
  }
 },
 "nbformat": 4,
 "nbformat_minor": 5
}
