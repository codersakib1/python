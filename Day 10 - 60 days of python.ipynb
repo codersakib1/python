{
 "cells": [
  {
   "cell_type": "code",
   "execution_count": null,
   "id": "dec40128",
   "metadata": {},
   "outputs": [],
   "source": [
    "While Loop\n",
    "In python, while loop is used to execute a block of statements repeatedly until a given a condition is \n",
    "satisfied.And when the condition becomes false, the line immediately after the loop in program is executed.\n",
    "\n",
    "syntax\n",
    "    while expression:\n",
    "        statement(s)\n",
    "        \n",
    "Example\n",
    "count = 0\n",
    "while(count<5):\n",
    "    count=count+1\n",
    "    print(\"GBS Soft\")"
   ]
  },
  {
   "cell_type": "code",
   "execution_count": 2,
   "id": "4584dd68",
   "metadata": {},
   "outputs": [
    {
     "name": "stdout",
     "output_type": "stream",
     "text": [
      "GBS soft 1\n",
      "GBS soft 2\n",
      "GBS soft 3\n",
      "GBS soft 4\n",
      "GBS soft 5\n",
      "GBS soft 6\n",
      "GBS soft 7\n",
      "GBS soft 8\n",
      "GBS soft 9\n",
      "GBS soft 10\n",
      "GBS soft 11\n"
     ]
    }
   ],
   "source": [
    "i=0\n",
    "while (i<=10):\n",
    "    i +=1\n",
    "    print(\"GBS soft\",i)"
   ]
  },
  {
   "cell_type": "code",
   "execution_count": 3,
   "id": "ee45f66c",
   "metadata": {},
   "outputs": [
    {
     "data": {
      "text/plain": [
       "'p'"
      ]
     },
     "execution_count": 3,
     "metadata": {},
     "output_type": "execute_result"
    }
   ],
   "source": [
    "data ='python'\n",
    "data[0]"
   ]
  },
  {
   "cell_type": "code",
   "execution_count": 4,
   "id": "93b8d89e",
   "metadata": {},
   "outputs": [
    {
     "name": "stdout",
     "output_type": "stream",
     "text": [
      "p\n",
      "y\n",
      "t\n",
      "h\n",
      "o\n",
      "n\n"
     ]
    }
   ],
   "source": [
    "index=0\n",
    "while index<len(data):\n",
    "    print(data[index])\n",
    "    index +=1"
   ]
  },
  {
   "cell_type": "code",
   "execution_count": 5,
   "id": "495d3a98",
   "metadata": {},
   "outputs": [
    {
     "name": "stdout",
     "output_type": "stream",
     "text": [
      "i\n",
      " \n",
      "l\n",
      "o\n",
      "v\n",
      "e\n",
      " \n",
      "d\n",
      "a\n",
      "t\n",
      "a\n",
      " \n",
      "s\n",
      "c\n",
      "i\n",
      "e\n",
      "n\n",
      "c\n",
      "e\n",
      " \n",
      "s\n",
      "o\n",
      " \n",
      "m\n",
      "u\n",
      "c\n",
      "h\n"
     ]
    }
   ],
   "source": [
    "data = 'i love data science so much'\n",
    "index =0\n",
    "while index<len(data):\n",
    "    print(data[index])\n",
    "    index = index+1"
   ]
  },
  {
   "cell_type": "code",
   "execution_count": 6,
   "id": "47fee377",
   "metadata": {},
   "outputs": [
    {
     "name": "stdout",
     "output_type": "stream",
     "text": [
      "i\n",
      "love\n",
      "data\n",
      "science\n",
      "so\n",
      "much\n"
     ]
    }
   ],
   "source": [
    "data = 'i love data science so much'\n",
    "data = data.split()\n",
    "index =0\n",
    "while index<len(data):\n",
    "    print(data[index])\n",
    "    index = index+1"
   ]
  },
  {
   "cell_type": "code",
   "execution_count": 9,
   "id": "18f3a5ea",
   "metadata": {},
   "outputs": [
    {
     "name": "stdout",
     "output_type": "stream",
     "text": [
      "2\n",
      "5\n",
      "9\n",
      "64\n",
      "124\n",
      "201\n",
      "301\n"
     ]
    }
   ],
   "source": [
    "n= [2,3,4,55,60,77,100]\n",
    "total =0\n",
    "index=0\n",
    "while(index<len(n)):\n",
    "    total = total + n[index]\n",
    "    print(total)\n",
    "    index +=1\n"
   ]
  },
  {
   "cell_type": "code",
   "execution_count": null,
   "id": "07af0672",
   "metadata": {},
   "outputs": [],
   "source": []
  },
  {
   "cell_type": "code",
   "execution_count": null,
   "id": "9feb91a2",
   "metadata": {},
   "outputs": [],
   "source": []
  }
 ],
 "metadata": {
  "kernelspec": {
   "display_name": "Python 3 (ipykernel)",
   "language": "python",
   "name": "python3"
  },
  "language_info": {
   "codemirror_mode": {
    "name": "ipython",
    "version": 3
   },
   "file_extension": ".py",
   "mimetype": "text/x-python",
   "name": "python",
   "nbconvert_exporter": "python",
   "pygments_lexer": "ipython3",
   "version": "3.11.5"
  }
 },
 "nbformat": 4,
 "nbformat_minor": 5
}
