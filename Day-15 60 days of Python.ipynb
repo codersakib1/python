{
 "cells": [
  {
   "cell_type": "markdown",
   "id": "5351e3b2",
   "metadata": {},
   "source": [
    "# Python Tuples"
   ]
  },
  {
   "cell_type": "code",
   "execution_count": null,
   "id": "b5f792f6",
   "metadata": {},
   "outputs": [],
   "source": [
    "A tuple in python is simillar to a list. The difference between the two is that we cannot change the elements of a tuple once it is assigned whereas we can change the elements of a list.\n",
    "\n",
    "this tuple = (1,100,True,'gbs-soft', 'ai quest','FAU',(1,4,10), [10,5])\n",
    "print(thistuple)"
   ]
  },
  {
   "cell_type": "code",
   "execution_count": null,
   "id": "d02db257",
   "metadata": {},
   "outputs": [],
   "source": [
    "Advantages of Tuple over list\n",
    "since tuples are quite similar to lists, both of them are used in similar situations.\n",
    "However, there are certain advantages of omplementing a tuple over a list.Below listed \n",
    "are some of the main advantages \n",
    "If you have data that doesn't change, implementing it as tuple will that it remains write\n",
    "protected.\n",
    "We generally use tuples for heterogeneous (different) data types and list. So there is a slight\n",
    "performance boost.\n",
    "Since tuples are immutable, iterating through a tuplw is faster tha with list. So there is a slight\n",
    "performance boost.\n",
    "Tuples that contain immutable elements can be used as a key for a dictionary.with list, this is not \n",
    "possible."
   ]
  }
 ],
 "metadata": {
  "kernelspec": {
   "display_name": "Python 3 (ipykernel)",
   "language": "python",
   "name": "python3"
  },
  "language_info": {
   "codemirror_mode": {
    "name": "ipython",
    "version": 3
   },
   "file_extension": ".py",
   "mimetype": "text/x-python",
   "name": "python",
   "nbconvert_exporter": "python",
   "pygments_lexer": "ipython3",
   "version": "3.11.5"
  }
 },
 "nbformat": 4,
 "nbformat_minor": 5
}
