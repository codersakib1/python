{
 "cells": [
  {
   "cell_type": "markdown",
   "id": "ae527086",
   "metadata": {},
   "source": [
    "# Python data structures"
   ]
  },
  {
   "cell_type": "code",
   "execution_count": null,
   "id": "b61861e2",
   "metadata": {},
   "outputs": [],
   "source": [
    "Data structures are 'container' that organize and group data according to type. The basic Python data structures in\n",
    "Python include list,set,tuple,and dictionary. Each of the data structures is unique in its own way.\n",
    "\n",
    "The most widely used pandas data structures are the Series and the DataFrame. Simply, a Series is similar to a single\n",
    "column of data while a DataFrame is similar to a sheet with rows and colums.\n",
    "\n",
    "Can we use Python for data structured and algorithm? -Create and manipulate data structures such as linked lists, queues,\n",
    "hash maps, graphs, and more in Python. Understand the characteristics of various advanced algorithms as well as be able \n",
    "to implement them in python.Analyze the space and time complexity of different data structures and algorithms.\n"
   ]
  },
  {
   "cell_type": "code",
   "execution_count": null,
   "id": "7e246283",
   "metadata": {},
   "outputs": [],
   "source": [
    "# Lists:\n",
    "A list is a data structure in Python that is a mutable or changeble ordered sequence of element, allowed duplicates value.\n",
    "Each element or value that is inside of a list is called an item.Just as strings are defined as characters between quotes,\n",
    "lists are defined by having values between square brackets[].\n",
    "Eample:\n",
    "    list = ['a', 'data science', 'ai quest', 'ml', 2023, true,(1,2,3),{2,3,4}]\n",
    "\n"
   ]
  },
  {
   "cell_type": "code",
   "execution_count": 1,
   "id": "30bd09e2",
   "metadata": {},
   "outputs": [],
   "source": [
    " l1 =[2,5,8,10]"
   ]
  },
  {
   "cell_type": "code",
   "execution_count": 2,
   "id": "cd84b550",
   "metadata": {},
   "outputs": [
    {
     "data": {
      "text/plain": [
       "[2, 5, 8, 10]"
      ]
     },
     "execution_count": 2,
     "metadata": {},
     "output_type": "execute_result"
    }
   ],
   "source": [
    "l1"
   ]
  },
  {
   "cell_type": "code",
   "execution_count": 3,
   "id": "6511269b",
   "metadata": {},
   "outputs": [
    {
     "data": {
      "text/plain": [
       "list"
      ]
     },
     "execution_count": 3,
     "metadata": {},
     "output_type": "execute_result"
    }
   ],
   "source": [
    "type(l1)"
   ]
  },
  {
   "cell_type": "code",
   "execution_count": 4,
   "id": "48b916a7",
   "metadata": {},
   "outputs": [
    {
     "data": {
      "text/plain": [
       "2"
      ]
     },
     "execution_count": 4,
     "metadata": {},
     "output_type": "execute_result"
    }
   ],
   "source": [
    "l1[0] #index"
   ]
  },
  {
   "cell_type": "code",
   "execution_count": 5,
   "id": "ae86f2f1",
   "metadata": {},
   "outputs": [
    {
     "data": {
      "text/plain": [
       "10"
      ]
     },
     "execution_count": 5,
     "metadata": {},
     "output_type": "execute_result"
    }
   ],
   "source": [
    "l1[-1]"
   ]
  },
  {
   "cell_type": "code",
   "execution_count": 6,
   "id": "411f2f6c",
   "metadata": {},
   "outputs": [
    {
     "data": {
      "text/plain": [
       "[2, 5]"
      ]
     },
     "execution_count": 6,
     "metadata": {},
     "output_type": "execute_result"
    }
   ],
   "source": [
    "l1[0:2]"
   ]
  },
  {
   "cell_type": "code",
   "execution_count": 7,
   "id": "a1376430",
   "metadata": {},
   "outputs": [
    {
     "data": {
      "text/plain": [
       "[2, 5, 8]"
      ]
     },
     "execution_count": 7,
     "metadata": {},
     "output_type": "execute_result"
    }
   ],
   "source": [
    "l1[0:3]"
   ]
  },
  {
   "cell_type": "code",
   "execution_count": 9,
   "id": "23a1c210",
   "metadata": {},
   "outputs": [],
   "source": [
    "l1[0] = 'ai quest'"
   ]
  },
  {
   "cell_type": "code",
   "execution_count": 10,
   "id": "b2dd0cd8",
   "metadata": {},
   "outputs": [
    {
     "data": {
      "text/plain": [
       "['ai quest', 5, 8, 10]"
      ]
     },
     "execution_count": 10,
     "metadata": {},
     "output_type": "execute_result"
    }
   ],
   "source": [
    "l1"
   ]
  },
  {
   "cell_type": "code",
   "execution_count": 11,
   "id": "28c2333b",
   "metadata": {},
   "outputs": [],
   "source": [
    "l1.append('GBS soft')"
   ]
  },
  {
   "cell_type": "code",
   "execution_count": 12,
   "id": "03a970ad",
   "metadata": {},
   "outputs": [
    {
     "data": {
      "text/plain": [
       "['ai quest', 5, 8, 10, 'GBS soft']"
      ]
     },
     "execution_count": 12,
     "metadata": {},
     "output_type": "execute_result"
    }
   ],
   "source": [
    "l1"
   ]
  },
  {
   "cell_type": "code",
   "execution_count": 13,
   "id": "03225731",
   "metadata": {},
   "outputs": [],
   "source": [
    "l1.append(5)"
   ]
  },
  {
   "cell_type": "code",
   "execution_count": 14,
   "id": "6a0d6fb0",
   "metadata": {},
   "outputs": [
    {
     "data": {
      "text/plain": [
       "['ai quest', 5, 8, 10, 'GBS soft', 5]"
      ]
     },
     "execution_count": 14,
     "metadata": {},
     "output_type": "execute_result"
    }
   ],
   "source": [
    "l1"
   ]
  },
  {
   "cell_type": "code",
   "execution_count": 15,
   "id": "02d1c34c",
   "metadata": {},
   "outputs": [
    {
     "data": {
      "text/plain": [
       "120"
      ]
     },
     "execution_count": 15,
     "metadata": {},
     "output_type": "execute_result"
    }
   ],
   "source": [
    "import sys\n",
    "sys.getsizeof(l1)"
   ]
  },
  {
   "cell_type": "code",
   "execution_count": 16,
   "id": "61a10bce",
   "metadata": {},
   "outputs": [
    {
     "data": {
      "text/plain": [
       "5"
      ]
     },
     "execution_count": 16,
     "metadata": {},
     "output_type": "execute_result"
    }
   ],
   "source": [
    "l1.pop() #delete"
   ]
  },
  {
   "cell_type": "code",
   "execution_count": 17,
   "id": "c088ef48",
   "metadata": {},
   "outputs": [
    {
     "data": {
      "text/plain": [
       "['ai quest', 5, 8, 10, 'GBS soft']"
      ]
     },
     "execution_count": 17,
     "metadata": {},
     "output_type": "execute_result"
    }
   ],
   "source": [
    "l1"
   ]
  },
  {
   "cell_type": "code",
   "execution_count": 18,
   "id": "0a762a8c",
   "metadata": {},
   "outputs": [
    {
     "data": {
      "text/plain": [
       "'ai quest'"
      ]
     },
     "execution_count": 18,
     "metadata": {},
     "output_type": "execute_result"
    }
   ],
   "source": [
    "l1.pop(0)"
   ]
  },
  {
   "cell_type": "code",
   "execution_count": 19,
   "id": "941f972f",
   "metadata": {},
   "outputs": [
    {
     "data": {
      "text/plain": [
       "[5, 8, 10, 'GBS soft']"
      ]
     },
     "execution_count": 19,
     "metadata": {},
     "output_type": "execute_result"
    }
   ],
   "source": [
    "l1"
   ]
  },
  {
   "cell_type": "code",
   "execution_count": 22,
   "id": "34b423a1",
   "metadata": {
    "scrolled": false
   },
   "outputs": [],
   "source": [
    "#creating list Using list constructor\n",
    "l2 = list(('ai',12,(1,2,3,4)))"
   ]
  },
  {
   "cell_type": "code",
   "execution_count": 23,
   "id": "221ca0ef",
   "metadata": {},
   "outputs": [
    {
     "data": {
      "text/plain": [
       "['ai', 12, (1, 2, 3, 4)]"
      ]
     },
     "execution_count": 23,
     "metadata": {},
     "output_type": "execute_result"
    }
   ],
   "source": [
    "l2"
   ]
  },
  {
   "cell_type": "code",
   "execution_count": 24,
   "id": "c1bdf6ba",
   "metadata": {},
   "outputs": [
    {
     "data": {
      "text/plain": [
       "list"
      ]
     },
     "execution_count": 24,
     "metadata": {},
     "output_type": "execute_result"
    }
   ],
   "source": [
    "type(l2)"
   ]
  },
  {
   "cell_type": "code",
   "execution_count": 26,
   "id": "4a9deeef",
   "metadata": {},
   "outputs": [
    {
     "data": {
      "text/plain": [
       "(1, 2, 3, 4)"
      ]
     },
     "execution_count": 26,
     "metadata": {},
     "output_type": "execute_result"
    }
   ],
   "source": [
    "l2[2]"
   ]
  },
  {
   "cell_type": "code",
   "execution_count": 27,
   "id": "c140244a",
   "metadata": {},
   "outputs": [
    {
     "data": {
      "text/plain": [
       "1"
      ]
     },
     "execution_count": 27,
     "metadata": {},
     "output_type": "execute_result"
    }
   ],
   "source": [
    "l2[2][0]"
   ]
  },
  {
   "cell_type": "code",
   "execution_count": null,
   "id": "86ee3a18",
   "metadata": {},
   "outputs": [],
   "source": [
    "#input list from user\n",
    "l3 = []\n",
    "n = int(input('Enter your total index: '))\n",
    "\n",
    "for i in range(n):\n",
    "    new = input ()\n",
    "    l3.append(new)\n",
    "    print(l3)"
   ]
  }
 ],
 "metadata": {
  "kernelspec": {
   "display_name": "Python 3 (ipykernel)",
   "language": "python",
   "name": "python3"
  },
  "language_info": {
   "codemirror_mode": {
    "name": "ipython",
    "version": 3
   },
   "file_extension": ".py",
   "mimetype": "text/x-python",
   "name": "python",
   "nbconvert_exporter": "python",
   "pygments_lexer": "ipython3",
   "version": "3.11.5"
  }
 },
 "nbformat": 4,
 "nbformat_minor": 5
}
