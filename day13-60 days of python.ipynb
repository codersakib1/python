{
 "cells": [
  {
   "cell_type": "markdown",
   "id": "8fb08d17",
   "metadata": {},
   "source": [
    "# LIST Methods\n",
    "\n",
    "\n",
    "1. copy( - returns a shallow copy of the list\n",
    "2. append() - adds an element to the end of the list\n",
    "3. extend() - adds all elements of a list to another list\n",
    "4. insert() - inserts an item at the defined index\n",
    "5. index() - returns the index of the first matched item\n",
    "6. count() - returns the count of the number of items    passed as an argument\n",
    "7. sort() - sort items in a list in ascending order\n",
    "8. reverse() - reverse the order of items in the list\n",
    "9. renove() - removes and item from the list\n",
    "10. pop() - returns and removes an element at the given index\n",
    "11. clear() - removes all items from the list\n"
   ]
  },
  {
   "cell_type": "code",
   "execution_count": 1,
   "id": "7cae1dc2",
   "metadata": {},
   "outputs": [],
   "source": [
    "#list\n",
    "list1 = ['ai', 'ds', 'cs',150,20,True,[3,4],(1,2)]"
   ]
  },
  {
   "cell_type": "code",
   "execution_count": 2,
   "id": "713d7531",
   "metadata": {},
   "outputs": [
    {
     "data": {
      "text/plain": [
       "['ai', 'ds', 'cs', 150, 20, True, [3, 4], (1, 2)]"
      ]
     },
     "execution_count": 2,
     "metadata": {},
     "output_type": "execute_result"
    }
   ],
   "source": [
    "list1"
   ]
  },
  {
   "cell_type": "code",
   "execution_count": 4,
   "id": "99665782",
   "metadata": {},
   "outputs": [
    {
     "data": {
      "text/plain": [
       "'ai'"
      ]
     },
     "execution_count": 4,
     "metadata": {},
     "output_type": "execute_result"
    }
   ],
   "source": [
    "list1[0]"
   ]
  },
  {
   "cell_type": "code",
   "execution_count": 5,
   "id": "92a30ac5",
   "metadata": {},
   "outputs": [
    {
     "data": {
      "text/plain": [
       "(1, 2)"
      ]
     },
     "execution_count": 5,
     "metadata": {},
     "output_type": "execute_result"
    }
   ],
   "source": [
    "list1[-1]"
   ]
  },
  {
   "cell_type": "code",
   "execution_count": 6,
   "id": "f1c3ff0f",
   "metadata": {},
   "outputs": [
    {
     "data": {
      "text/plain": [
       "1"
      ]
     },
     "execution_count": 6,
     "metadata": {},
     "output_type": "execute_result"
    }
   ],
   "source": [
    "list1[-1][0]"
   ]
  },
  {
   "cell_type": "markdown",
   "id": "2823acab",
   "metadata": {},
   "source": [
    "#       copy()"
   ]
  },
  {
   "cell_type": "code",
   "execution_count": 7,
   "id": "854a0752",
   "metadata": {},
   "outputs": [],
   "source": [
    "list2 = list1"
   ]
  },
  {
   "cell_type": "code",
   "execution_count": 8,
   "id": "33561762",
   "metadata": {},
   "outputs": [
    {
     "data": {
      "text/plain": [
       "['ai', 'ds', 'cs', 150, 20, True, [3, 4], (1, 2)]"
      ]
     },
     "execution_count": 8,
     "metadata": {},
     "output_type": "execute_result"
    }
   ],
   "source": [
    "list2"
   ]
  },
  {
   "cell_type": "code",
   "execution_count": 9,
   "id": "2c0d0a06",
   "metadata": {},
   "outputs": [],
   "source": [
    "list3 = list1.copy()"
   ]
  },
  {
   "cell_type": "code",
   "execution_count": 10,
   "id": "530226c0",
   "metadata": {},
   "outputs": [
    {
     "data": {
      "text/plain": [
       "['ai', 'ds', 'cs', 150, 20, True, [3, 4], (1, 2)]"
      ]
     },
     "execution_count": 10,
     "metadata": {},
     "output_type": "execute_result"
    }
   ],
   "source": [
    "list3"
   ]
  },
  {
   "cell_type": "code",
   "execution_count": 11,
   "id": "bb7202c4",
   "metadata": {},
   "outputs": [],
   "source": [
    "list1[0] = '1000'"
   ]
  },
  {
   "cell_type": "code",
   "execution_count": 12,
   "id": "281cb200",
   "metadata": {},
   "outputs": [
    {
     "data": {
      "text/plain": [
       "['1000', 'ds', 'cs', 150, 20, True, [3, 4], (1, 2)]"
      ]
     },
     "execution_count": 12,
     "metadata": {},
     "output_type": "execute_result"
    }
   ],
   "source": [
    "list1"
   ]
  },
  {
   "cell_type": "code",
   "execution_count": 13,
   "id": "31573df1",
   "metadata": {},
   "outputs": [
    {
     "data": {
      "text/plain": [
       "['ai', 'ds', 'cs', 150, 20, True, [3, 4], (1, 2)]"
      ]
     },
     "execution_count": 13,
     "metadata": {},
     "output_type": "execute_result"
    }
   ],
   "source": [
    "list3"
   ]
  },
  {
   "cell_type": "code",
   "execution_count": 14,
   "id": "183c86bd",
   "metadata": {},
   "outputs": [],
   "source": [
    "list3[0]='data'"
   ]
  },
  {
   "cell_type": "code",
   "execution_count": 15,
   "id": "b5198c15",
   "metadata": {},
   "outputs": [
    {
     "data": {
      "text/plain": [
       "['data', 'ds', 'cs', 150, 20, True, [3, 4], (1, 2)]"
      ]
     },
     "execution_count": 15,
     "metadata": {},
     "output_type": "execute_result"
    }
   ],
   "source": [
    "list3"
   ]
  },
  {
   "cell_type": "code",
   "execution_count": 16,
   "id": "d1a0fbec",
   "metadata": {},
   "outputs": [
    {
     "data": {
      "text/plain": [
       "['1000', 'ds', 'cs', 150, 20, True, [3, 4], (1, 2)]"
      ]
     },
     "execution_count": 16,
     "metadata": {},
     "output_type": "execute_result"
    }
   ],
   "source": [
    "list1"
   ]
  },
  {
   "cell_type": "markdown",
   "id": "10b6f69e",
   "metadata": {},
   "source": [
    "# Append()  \n",
    "kono kicu add kora"
   ]
  },
  {
   "cell_type": "code",
   "execution_count": 18,
   "id": "65fc65f5",
   "metadata": {},
   "outputs": [],
   "source": [
    "list1.append(28)"
   ]
  },
  {
   "cell_type": "code",
   "execution_count": 19,
   "id": "100d6eb7",
   "metadata": {},
   "outputs": [
    {
     "data": {
      "text/plain": [
       "['1000', 'ds', 'cs', 150, 20, True, [3, 4], (1, 2), 28]"
      ]
     },
     "execution_count": 19,
     "metadata": {},
     "output_type": "execute_result"
    }
   ],
   "source": [
    "list1"
   ]
  },
  {
   "cell_type": "code",
   "execution_count": 38,
   "id": "4cf8d2e8",
   "metadata": {},
   "outputs": [],
   "source": [
    "l1 = [10,100.3]"
   ]
  },
  {
   "cell_type": "code",
   "execution_count": 39,
   "id": "b2fbcc38",
   "metadata": {},
   "outputs": [],
   "source": [
    "list1.append(11)"
   ]
  },
  {
   "cell_type": "code",
   "execution_count": 40,
   "id": "8df3e877",
   "metadata": {},
   "outputs": [
    {
     "data": {
      "text/plain": [
       "['1000',\n",
       " 'ds',\n",
       " 'cs',\n",
       " 150,\n",
       " 20,\n",
       " True,\n",
       " [3, 4],\n",
       " (1, 2),\n",
       " 28,\n",
       " 11,\n",
       " {1, 2, 3, 4},\n",
       " 10,\n",
       " 100,\n",
       " 31,\n",
       " 11,\n",
       " {1, 2, 3, 4},\n",
       " 10,\n",
       " 100,\n",
       " 3,\n",
       " 11]"
      ]
     },
     "execution_count": 40,
     "metadata": {},
     "output_type": "execute_result"
    }
   ],
   "source": [
    "list1"
   ]
  },
  {
   "cell_type": "code",
   "execution_count": 41,
   "id": "8f205d8f",
   "metadata": {},
   "outputs": [],
   "source": [
    "list1.append({1,2,3,4})"
   ]
  },
  {
   "cell_type": "code",
   "execution_count": 42,
   "id": "f8abcb57",
   "metadata": {},
   "outputs": [
    {
     "data": {
      "text/plain": [
       "['1000',\n",
       " 'ds',\n",
       " 'cs',\n",
       " 150,\n",
       " 20,\n",
       " True,\n",
       " [3, 4],\n",
       " (1, 2),\n",
       " 28,\n",
       " 11,\n",
       " {1, 2, 3, 4},\n",
       " 10,\n",
       " 100,\n",
       " 31,\n",
       " 11,\n",
       " {1, 2, 3, 4},\n",
       " 10,\n",
       " 100,\n",
       " 3,\n",
       " 11,\n",
       " {1, 2, 3, 4}]"
      ]
     },
     "execution_count": 42,
     "metadata": {},
     "output_type": "execute_result"
    }
   ],
   "source": [
    "list1"
   ]
  },
  {
   "cell_type": "code",
   "execution_count": 43,
   "id": "50034fef",
   "metadata": {},
   "outputs": [
    {
     "data": {
      "text/plain": [
       "{1, 2, 3, 4}"
      ]
     },
     "execution_count": 43,
     "metadata": {},
     "output_type": "execute_result"
    }
   ],
   "source": [
    "list1[-1]"
   ]
  },
  {
   "cell_type": "code",
   "execution_count": 44,
   "id": "a5de58d1",
   "metadata": {},
   "outputs": [],
   "source": [
    "list1.extend(l1)"
   ]
  },
  {
   "cell_type": "code",
   "execution_count": 45,
   "id": "b6d17c04",
   "metadata": {},
   "outputs": [
    {
     "data": {
      "text/plain": [
       "['1000',\n",
       " 'ds',\n",
       " 'cs',\n",
       " 150,\n",
       " 20,\n",
       " True,\n",
       " [3, 4],\n",
       " (1, 2),\n",
       " 28,\n",
       " 11,\n",
       " {1, 2, 3, 4},\n",
       " 10,\n",
       " 100,\n",
       " 31,\n",
       " 11,\n",
       " {1, 2, 3, 4},\n",
       " 10,\n",
       " 100,\n",
       " 3,\n",
       " 11,\n",
       " {1, 2, 3, 4},\n",
       " 10,\n",
       " 100.3]"
      ]
     },
     "execution_count": 45,
     "metadata": {},
     "output_type": "execute_result"
    }
   ],
   "source": [
    "list1"
   ]
  },
  {
   "cell_type": "markdown",
   "id": "3e310771",
   "metadata": {},
   "source": [
    "# Insert()\n",
    "new value add"
   ]
  },
  {
   "cell_type": "code",
   "execution_count": 46,
   "id": "a62ff6a0",
   "metadata": {},
   "outputs": [],
   "source": [
    "list1.insert(0,'FAU')"
   ]
  },
  {
   "cell_type": "code",
   "execution_count": 47,
   "id": "4a832ba6",
   "metadata": {},
   "outputs": [
    {
     "data": {
      "text/plain": [
       "['FAU',\n",
       " '1000',\n",
       " 'ds',\n",
       " 'cs',\n",
       " 150,\n",
       " 20,\n",
       " True,\n",
       " [3, 4],\n",
       " (1, 2),\n",
       " 28,\n",
       " 11,\n",
       " {1, 2, 3, 4},\n",
       " 10,\n",
       " 100,\n",
       " 31,\n",
       " 11,\n",
       " {1, 2, 3, 4},\n",
       " 10,\n",
       " 100,\n",
       " 3,\n",
       " 11,\n",
       " {1, 2, 3, 4},\n",
       " 10,\n",
       " 100.3]"
      ]
     },
     "execution_count": 47,
     "metadata": {},
     "output_type": "execute_result"
    }
   ],
   "source": [
    "list1"
   ]
  },
  {
   "cell_type": "code",
   "execution_count": 50,
   "id": "2eda4d21",
   "metadata": {},
   "outputs": [],
   "source": [
    "list1[0]='Germany'"
   ]
  },
  {
   "cell_type": "code",
   "execution_count": 51,
   "id": "778e86e2",
   "metadata": {},
   "outputs": [
    {
     "data": {
      "text/plain": [
       "['Germany',\n",
       " '1000',\n",
       " 'ds',\n",
       " 'cs',\n",
       " 150,\n",
       " 20,\n",
       " True,\n",
       " [3, 4],\n",
       " (1, 2),\n",
       " 28,\n",
       " 11,\n",
       " {1, 2, 3, 4},\n",
       " 10,\n",
       " 100,\n",
       " 31,\n",
       " 11,\n",
       " {1, 2, 3, 4},\n",
       " 10,\n",
       " 100,\n",
       " 3,\n",
       " 11,\n",
       " {1, 2, 3, 4},\n",
       " 10,\n",
       " 100.3]"
      ]
     },
     "execution_count": 51,
     "metadata": {},
     "output_type": "execute_result"
    }
   ],
   "source": [
    "list1"
   ]
  },
  {
   "cell_type": "code",
   "execution_count": 52,
   "id": "7fd849f3",
   "metadata": {},
   "outputs": [
    {
     "data": {
      "text/plain": [
       "['Germany',\n",
       " '1000',\n",
       " 'ds',\n",
       " 'cs',\n",
       " 150,\n",
       " 20,\n",
       " True,\n",
       " [3, 4],\n",
       " (1, 2),\n",
       " 28,\n",
       " 11,\n",
       " {1, 2, 3, 4},\n",
       " 10,\n",
       " 100,\n",
       " 31,\n",
       " 11,\n",
       " {1, 2, 3, 4},\n",
       " 10,\n",
       " 100,\n",
       " 3,\n",
       " 11,\n",
       " {1, 2, 3, 4},\n",
       " 10,\n",
       " 100.3]"
      ]
     },
     "execution_count": 52,
     "metadata": {},
     "output_type": "execute_result"
    }
   ],
   "source": [
    "list1"
   ]
  },
  {
   "cell_type": "markdown",
   "id": "ae742559",
   "metadata": {},
   "source": [
    "# Index()"
   ]
  },
  {
   "cell_type": "code",
   "execution_count": 53,
   "id": "a6de94d1",
   "metadata": {},
   "outputs": [
    {
     "data": {
      "text/plain": [
       "4"
      ]
     },
     "execution_count": 53,
     "metadata": {},
     "output_type": "execute_result"
    }
   ],
   "source": [
    "list1.index(150)"
   ]
  },
  {
   "cell_type": "code",
   "execution_count": 56,
   "id": "81dd5a0a",
   "metadata": {},
   "outputs": [
    {
     "data": {
      "text/plain": [
       "11"
      ]
     },
     "execution_count": 56,
     "metadata": {},
     "output_type": "execute_result"
    }
   ],
   "source": [
    "list1.index({1,2,3,4})"
   ]
  },
  {
   "cell_type": "markdown",
   "id": "94560a5f",
   "metadata": {},
   "source": [
    "# count()"
   ]
  },
  {
   "cell_type": "code",
   "execution_count": 58,
   "id": "5335fed9",
   "metadata": {},
   "outputs": [
    {
     "data": {
      "text/plain": [
       "3"
      ]
     },
     "execution_count": 58,
     "metadata": {},
     "output_type": "execute_result"
    }
   ],
   "source": [
    "list1.count({1,2,3,4})"
   ]
  },
  {
   "cell_type": "code",
   "execution_count": 59,
   "id": "5d6cc189",
   "metadata": {},
   "outputs": [
    {
     "data": {
      "text/plain": [
       "1"
      ]
     },
     "execution_count": 59,
     "metadata": {},
     "output_type": "execute_result"
    }
   ],
   "source": [
    "list1.count(150)"
   ]
  },
  {
   "cell_type": "markdown",
   "id": "bfca39f0",
   "metadata": {},
   "source": [
    "# Sort()"
   ]
  },
  {
   "cell_type": "code",
   "execution_count": 71,
   "id": "cbe09484",
   "metadata": {},
   "outputs": [],
   "source": [
    "ls2 = [10,2,6,7,9,100]"
   ]
  },
  {
   "cell_type": "code",
   "execution_count": 72,
   "id": "85abcff6",
   "metadata": {},
   "outputs": [],
   "source": [
    "ls2.sort()"
   ]
  },
  {
   "cell_type": "code",
   "execution_count": 73,
   "id": "8a8346c8",
   "metadata": {},
   "outputs": [
    {
     "data": {
      "text/plain": [
       "[2, 6, 7, 9, 10, 100]"
      ]
     },
     "execution_count": 73,
     "metadata": {},
     "output_type": "execute_result"
    }
   ],
   "source": [
    "ls2"
   ]
  },
  {
   "cell_type": "markdown",
   "id": "b881dea0",
   "metadata": {},
   "source": [
    "# Reverse()"
   ]
  },
  {
   "cell_type": "raw",
   "id": "284fc726",
   "metadata": {},
   "source": [
    "ls2 = [10,2,6,7,9,100]"
   ]
  },
  {
   "cell_type": "code",
   "execution_count": 75,
   "id": "fefd5c78",
   "metadata": {},
   "outputs": [],
   "source": [
    "ls2.reverse()"
   ]
  },
  {
   "cell_type": "code",
   "execution_count": 76,
   "id": "9695d97d",
   "metadata": {},
   "outputs": [
    {
     "data": {
      "text/plain": [
       "[100, 10, 9, 7, 6, 2]"
      ]
     },
     "execution_count": 76,
     "metadata": {},
     "output_type": "execute_result"
    }
   ],
   "source": [
    "ls2"
   ]
  },
  {
   "cell_type": "markdown",
   "id": "a1cdece8",
   "metadata": {},
   "source": [
    "# pop()"
   ]
  },
  {
   "cell_type": "code",
   "execution_count": 81,
   "id": "602445d4",
   "metadata": {},
   "outputs": [
    {
     "data": {
      "text/plain": [
       "9"
      ]
     },
     "execution_count": 81,
     "metadata": {},
     "output_type": "execute_result"
    }
   ],
   "source": [
    "ls2.pop(-1)"
   ]
  },
  {
   "cell_type": "code",
   "execution_count": 82,
   "id": "bf5472ff",
   "metadata": {},
   "outputs": [
    {
     "data": {
      "text/plain": [
       "[10]"
      ]
     },
     "execution_count": 82,
     "metadata": {},
     "output_type": "execute_result"
    }
   ],
   "source": [
    "ls2"
   ]
  },
  {
   "cell_type": "markdown",
   "id": "aa08c80a",
   "metadata": {},
   "source": [
    "# clear()"
   ]
  },
  {
   "cell_type": "code",
   "execution_count": 83,
   "id": "88626821",
   "metadata": {},
   "outputs": [],
   "source": [
    "ls2.clear()"
   ]
  },
  {
   "cell_type": "code",
   "execution_count": 84,
   "id": "3a0a4094",
   "metadata": {},
   "outputs": [
    {
     "data": {
      "text/plain": [
       "[]"
      ]
     },
     "execution_count": 84,
     "metadata": {},
     "output_type": "execute_result"
    }
   ],
   "source": [
    "ls2"
   ]
  },
  {
   "cell_type": "code",
   "execution_count": null,
   "id": "3ec98244",
   "metadata": {},
   "outputs": [],
   "source": []
  }
 ],
 "metadata": {
  "kernelspec": {
   "display_name": "Python 3 (ipykernel)",
   "language": "python",
   "name": "python3"
  },
  "language_info": {
   "codemirror_mode": {
    "name": "ipython",
    "version": 3
   },
   "file_extension": ".py",
   "mimetype": "text/x-python",
   "name": "python",
   "nbconvert_exporter": "python",
   "pygments_lexer": "ipython3",
   "version": "3.11.5"
  }
 },
 "nbformat": 4,
 "nbformat_minor": 5
}
