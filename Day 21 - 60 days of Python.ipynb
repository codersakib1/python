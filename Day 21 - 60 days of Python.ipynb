{
 "cells": [
  {
   "cell_type": "markdown",
   "id": "d3db7905",
   "metadata": {},
   "source": [
    "# Dictonary"
   ]
  },
  {
   "cell_type": "code",
   "execution_count": null,
   "id": "dbbff57f",
   "metadata": {},
   "outputs": [],
   "source": [
    "There are four collection data types in the python programming language.\n",
    "* list is a collection which is ordered and changeable. Allows duplicate members.\n",
    "* Tuple is a collection which is ordered and unchangeable. Allow duplicate members.\n",
    "* Set is a collection which unordered, unchangeable and unindexed. No duplicate members.\n",
    "* Dictionary is a collection which is ordered and changeable . No duplicate members."
   ]
  },
  {
   "cell_type": "code",
   "execution_count": null,
   "id": "82636d1e",
   "metadata": {},
   "outputs": [],
   "source": [
    "Dic = {\n",
    "    'name' = 'sakib', \n",
    "    ' varsity'= 'FAU'\n",
    "    'department'='Data Science'\n",
    "    \n",
    "    KEYS : name, varsity, department\n",
    "    VALUES: Shakil, FAU, Data Science\n",
    "}"
   ]
  },
  {
   "cell_type": "code",
   "execution_count": 2,
   "id": "31330e42",
   "metadata": {},
   "outputs": [],
   "source": [
    "dic = {\n",
    "    'name':'sakib',\n",
    "    'varsity':'SU'\n",
    "}"
   ]
  },
  {
   "cell_type": "code",
   "execution_count": 3,
   "id": "1b63fb77",
   "metadata": {},
   "outputs": [
    {
     "data": {
      "text/plain": [
       "{'name': 'sakib', 'varsity': 'SU'}"
      ]
     },
     "execution_count": 3,
     "metadata": {},
     "output_type": "execute_result"
    }
   ],
   "source": [
    "dic"
   ]
  },
  {
   "cell_type": "code",
   "execution_count": 4,
   "id": "26a0dcdb",
   "metadata": {},
   "outputs": [
    {
     "data": {
      "text/plain": [
       "dict_keys(['name', 'varsity'])"
      ]
     },
     "execution_count": 4,
     "metadata": {},
     "output_type": "execute_result"
    }
   ],
   "source": [
    "dic.keys()"
   ]
  },
  {
   "cell_type": "code",
   "execution_count": 5,
   "id": "12458185",
   "metadata": {},
   "outputs": [
    {
     "data": {
      "text/plain": [
       "dict"
      ]
     },
     "execution_count": 5,
     "metadata": {},
     "output_type": "execute_result"
    }
   ],
   "source": [
    "type (dic)"
   ]
  },
  {
   "cell_type": "code",
   "execution_count": 7,
   "id": "40efe67c",
   "metadata": {},
   "outputs": [
    {
     "data": {
      "text/plain": [
       "dict_values(['sakib', 'SU'])"
      ]
     },
     "execution_count": 7,
     "metadata": {},
     "output_type": "execute_result"
    }
   ],
   "source": [
    "dic.values()"
   ]
  },
  {
   "cell_type": "code",
   "execution_count": 8,
   "id": "cbbcebeb",
   "metadata": {},
   "outputs": [],
   "source": [
    "#copy\n",
    "dic2 = dic.copy()"
   ]
  },
  {
   "cell_type": "code",
   "execution_count": 9,
   "id": "38032625",
   "metadata": {},
   "outputs": [
    {
     "data": {
      "text/plain": [
       "{'name': 'sakib', 'varsity': 'SU'}"
      ]
     },
     "execution_count": 9,
     "metadata": {},
     "output_type": "execute_result"
    }
   ],
   "source": [
    "dic2"
   ]
  },
  {
   "cell_type": "code",
   "execution_count": 10,
   "id": "53cedeb3",
   "metadata": {},
   "outputs": [],
   "source": [
    "dic['varsity'] = 'FAU'"
   ]
  },
  {
   "cell_type": "code",
   "execution_count": 11,
   "id": "1ef28cf0",
   "metadata": {},
   "outputs": [
    {
     "data": {
      "text/plain": [
       "{'name': 'sakib', 'varsity': 'FAU'}"
      ]
     },
     "execution_count": 11,
     "metadata": {},
     "output_type": "execute_result"
    }
   ],
   "source": [
    "dic"
   ]
  },
  {
   "cell_type": "code",
   "execution_count": 13,
   "id": "efc3c29a",
   "metadata": {},
   "outputs": [],
   "source": [
    "dic['dept']='Data Science'"
   ]
  },
  {
   "cell_type": "code",
   "execution_count": 14,
   "id": "5f34f642",
   "metadata": {},
   "outputs": [
    {
     "data": {
      "text/plain": [
       "{'name': 'sakib', 'varsity': 'FAU', 'dept': 'Data Science'}"
      ]
     },
     "execution_count": 14,
     "metadata": {},
     "output_type": "execute_result"
    }
   ],
   "source": [
    "dic"
   ]
  },
  {
   "cell_type": "code",
   "execution_count": 15,
   "id": "bb8e6ee0",
   "metadata": {},
   "outputs": [],
   "source": [
    "dic.update({'dept':'AI'})"
   ]
  },
  {
   "cell_type": "code",
   "execution_count": 16,
   "id": "03f31ac6",
   "metadata": {},
   "outputs": [
    {
     "data": {
      "text/plain": [
       "{'name': 'sakib', 'varsity': 'FAU', 'dept': 'AI'}"
      ]
     },
     "execution_count": 16,
     "metadata": {},
     "output_type": "execute_result"
    }
   ],
   "source": [
    "dic"
   ]
  },
  {
   "cell_type": "code",
   "execution_count": 17,
   "id": "e310e7b4",
   "metadata": {},
   "outputs": [
    {
     "data": {
      "text/plain": [
       "('dept', 'AI')"
      ]
     },
     "execution_count": 17,
     "metadata": {},
     "output_type": "execute_result"
    }
   ],
   "source": [
    "dic.popitem()"
   ]
  },
  {
   "cell_type": "code",
   "execution_count": 18,
   "id": "b4ff63f6",
   "metadata": {},
   "outputs": [
    {
     "data": {
      "text/plain": [
       "{'name': 'sakib', 'varsity': 'FAU'}"
      ]
     },
     "execution_count": 18,
     "metadata": {},
     "output_type": "execute_result"
    }
   ],
   "source": [
    "dic"
   ]
  },
  {
   "cell_type": "code",
   "execution_count": 20,
   "id": "3600dd6d",
   "metadata": {},
   "outputs": [
    {
     "data": {
      "text/plain": [
       "'FAU'"
      ]
     },
     "execution_count": 20,
     "metadata": {},
     "output_type": "execute_result"
    }
   ],
   "source": [
    "dic.pop('varsity')"
   ]
  },
  {
   "cell_type": "code",
   "execution_count": 21,
   "id": "6d29ac25",
   "metadata": {},
   "outputs": [
    {
     "data": {
      "text/plain": [
       "{'name': 'sakib'}"
      ]
     },
     "execution_count": 21,
     "metadata": {},
     "output_type": "execute_result"
    }
   ],
   "source": [
    "dic"
   ]
  },
  {
   "cell_type": "code",
   "execution_count": 22,
   "id": "337b2999",
   "metadata": {},
   "outputs": [],
   "source": [
    "dic['dept']= 'Data Science'"
   ]
  },
  {
   "cell_type": "code",
   "execution_count": 23,
   "id": "654f0445",
   "metadata": {},
   "outputs": [
    {
     "data": {
      "text/plain": [
       "{'name': 'sakib', 'dept': 'Data Science'}"
      ]
     },
     "execution_count": 23,
     "metadata": {},
     "output_type": "execute_result"
    }
   ],
   "source": [
    "dic"
   ]
  },
  {
   "cell_type": "code",
   "execution_count": 25,
   "id": "d2b4d74d",
   "metadata": {},
   "outputs": [],
   "source": [
    "del dic['name']"
   ]
  },
  {
   "cell_type": "code",
   "execution_count": 26,
   "id": "8517f08f",
   "metadata": {},
   "outputs": [
    {
     "data": {
      "text/plain": [
       "{'dept': 'Data Science'}"
      ]
     },
     "execution_count": 26,
     "metadata": {},
     "output_type": "execute_result"
    }
   ],
   "source": [
    "dic"
   ]
  },
  {
   "cell_type": "code",
   "execution_count": 27,
   "id": "4e32ee8e",
   "metadata": {},
   "outputs": [],
   "source": [
    "dic['dept2']= 'ai'"
   ]
  },
  {
   "cell_type": "code",
   "execution_count": 28,
   "id": "086007e3",
   "metadata": {},
   "outputs": [
    {
     "data": {
      "text/plain": [
       "{'dept': 'Data Science', 'dept2': 'ai'}"
      ]
     },
     "execution_count": 28,
     "metadata": {},
     "output_type": "execute_result"
    }
   ],
   "source": [
    "dic"
   ]
  },
  {
   "cell_type": "code",
   "execution_count": 29,
   "id": "352eb23d",
   "metadata": {},
   "outputs": [
    {
     "name": "stdout",
     "output_type": "stream",
     "text": [
      "Data Science\n",
      "ai\n"
     ]
    }
   ],
   "source": [
    "#print all item\n",
    "for x in dic:\n",
    "    print(dic[x])"
   ]
  },
  {
   "cell_type": "code",
   "execution_count": 30,
   "id": "5ac7e3c4",
   "metadata": {},
   "outputs": [
    {
     "name": "stdout",
     "output_type": "stream",
     "text": [
      "dept\n",
      "dept2\n"
     ]
    }
   ],
   "source": [
    "for x in dic:\n",
    "    print(x)"
   ]
  },
  {
   "cell_type": "code",
   "execution_count": 31,
   "id": "1f78a2f6",
   "metadata": {},
   "outputs": [],
   "source": [
    "d2 = list(dic.keys())"
   ]
  },
  {
   "cell_type": "code",
   "execution_count": 32,
   "id": "0e143c16",
   "metadata": {},
   "outputs": [
    {
     "data": {
      "text/plain": [
       "['dept', 'dept2']"
      ]
     },
     "execution_count": 32,
     "metadata": {},
     "output_type": "execute_result"
    }
   ],
   "source": [
    "d2"
   ]
  },
  {
   "cell_type": "code",
   "execution_count": 34,
   "id": "eb85581e",
   "metadata": {},
   "outputs": [],
   "source": [
    "d3 = list(dic.values())"
   ]
  },
  {
   "cell_type": "code",
   "execution_count": 35,
   "id": "fa434786",
   "metadata": {},
   "outputs": [
    {
     "data": {
      "text/plain": [
       "['Data Science', 'ai']"
      ]
     },
     "execution_count": 35,
     "metadata": {},
     "output_type": "execute_result"
    }
   ],
   "source": [
    "d3"
   ]
  },
  {
   "cell_type": "code",
   "execution_count": 37,
   "id": "5ff41265",
   "metadata": {},
   "outputs": [
    {
     "name": "stdout",
     "output_type": "stream",
     "text": [
      "3\n",
      "name\n",
      "sakib\n",
      "dept\n",
      "data science\n",
      "dept2\n",
      "AI\n",
      "{'name': 'sakib', 'dept': 'data science', 'dept2': 'AI'}\n"
     ]
    }
   ],
   "source": [
    "# dic for user input\n",
    "n = int(input())\n",
    "d = {}\n",
    "\n",
    "for i in range(n):\n",
    "    key = input()\n",
    "    value = input()\n",
    "    d[key]= value\n",
    "    \n",
    "print(d)"
   ]
  },
  {
   "cell_type": "code",
   "execution_count": 38,
   "id": "90af6f17",
   "metadata": {},
   "outputs": [
    {
     "data": {
      "text/plain": [
       "{'name': 'sakib', 'dept': 'data science', 'dept2': 'AI'}"
      ]
     },
     "execution_count": 38,
     "metadata": {},
     "output_type": "execute_result"
    }
   ],
   "source": [
    "d"
   ]
  },
  {
   "cell_type": "code",
   "execution_count": null,
   "id": "455e4d55",
   "metadata": {},
   "outputs": [],
   "source": []
  }
 ],
 "metadata": {
  "kernelspec": {
   "display_name": "Python 3 (ipykernel)",
   "language": "python",
   "name": "python3"
  },
  "language_info": {
   "codemirror_mode": {
    "name": "ipython",
    "version": 3
   },
   "file_extension": ".py",
   "mimetype": "text/x-python",
   "name": "python",
   "nbconvert_exporter": "python",
   "pygments_lexer": "ipython3",
   "version": "3.11.5"
  }
 },
 "nbformat": 4,
 "nbformat_minor": 5
}
