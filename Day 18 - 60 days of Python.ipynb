{
 "cells": [
  {
   "cell_type": "markdown",
   "id": "5add1295",
   "metadata": {},
   "source": [
    "# Frozen set in Python"
   ]
  },
  {
   "cell_type": "code",
   "execution_count": null,
   "id": "46955562",
   "metadata": {},
   "outputs": [],
   "source": [
    "What is the difference between frozen set and set in Python?\n",
    "In Python, frozenset is the same as set except the frozensets are immutable which means that elements from the\n",
    "frozenset cannot be added or removed once created. This function takes input as any iterable object and converts\n",
    "them into an immutable object. The order of elements is not guarantedd to be preserved.\n",
    "\n",
    "    * Frozen set is the immutable version of python set. Its frozen, meaning unchangeable.\n",
    "    * Elements of the frozen set remain the same after creation.\n",
    "    * You can't add/modify/remove.\n",
    "    * Frozenset inbuilt function.\n",
    "    * Syntax: frozenset(iterable_object_name)\n",
    "    * Parameter: This function accepts iterable object as input parameter.\n",
    "    * Return Type: This function return an equivalent frozenset object.\n",
    "    \n",
    "    favourite_subject = [\"AI\",\"DA\", \"ML\"]\n",
    "    frozenset(favourite_subject)"
   ]
  },
  {
   "cell_type": "code",
   "execution_count": 1,
   "id": "96e4e229",
   "metadata": {},
   "outputs": [],
   "source": [
    "#FrozenSet()\n",
    "s1 = {1,2,3,4,5}\n",
    "s2 = {'a', 'b'}"
   ]
  },
  {
   "cell_type": "code",
   "execution_count": 2,
   "id": "311dd8c4",
   "metadata": {},
   "outputs": [
    {
     "data": {
      "text/plain": [
       "{1, 2, 3, 4, 5}"
      ]
     },
     "execution_count": 2,
     "metadata": {},
     "output_type": "execute_result"
    }
   ],
   "source": [
    "s1"
   ]
  },
  {
   "cell_type": "code",
   "execution_count": 3,
   "id": "83100ab6",
   "metadata": {},
   "outputs": [
    {
     "data": {
      "text/plain": [
       "{'a', 'b'}"
      ]
     },
     "execution_count": 3,
     "metadata": {},
     "output_type": "execute_result"
    }
   ],
   "source": [
    "s2"
   ]
  },
  {
   "cell_type": "code",
   "execution_count": 4,
   "id": "900301a3",
   "metadata": {},
   "outputs": [
    {
     "data": {
      "text/plain": [
       "set"
      ]
     },
     "execution_count": 4,
     "metadata": {},
     "output_type": "execute_result"
    }
   ],
   "source": [
    "type(s1)"
   ]
  },
  {
   "cell_type": "code",
   "execution_count": 5,
   "id": "570bef65",
   "metadata": {},
   "outputs": [],
   "source": [
    "s1.add(10)"
   ]
  },
  {
   "cell_type": "code",
   "execution_count": 6,
   "id": "1a4735dd",
   "metadata": {},
   "outputs": [
    {
     "data": {
      "text/plain": [
       "{1, 2, 3, 4, 5, 10}"
      ]
     },
     "execution_count": 6,
     "metadata": {},
     "output_type": "execute_result"
    }
   ],
   "source": [
    "s1"
   ]
  },
  {
   "cell_type": "markdown",
   "id": "297ced2f",
   "metadata": {},
   "source": [
    "# FrozenSet()"
   ]
  },
  {
   "cell_type": "code",
   "execution_count": 7,
   "id": "3e7b4b9d",
   "metadata": {},
   "outputs": [],
   "source": [
    "s3 = frozenset(s1)"
   ]
  },
  {
   "cell_type": "code",
   "execution_count": 8,
   "id": "ca46e79a",
   "metadata": {},
   "outputs": [
    {
     "data": {
      "text/plain": [
       "frozenset({1, 2, 3, 4, 5, 10})"
      ]
     },
     "execution_count": 8,
     "metadata": {},
     "output_type": "execute_result"
    }
   ],
   "source": [
    "s3"
   ]
  },
  {
   "cell_type": "code",
   "execution_count": 9,
   "id": "673ff444",
   "metadata": {},
   "outputs": [
    {
     "data": {
      "text/plain": [
       "frozenset"
      ]
     },
     "execution_count": 9,
     "metadata": {},
     "output_type": "execute_result"
    }
   ],
   "source": [
    "type(s3)"
   ]
  },
  {
   "cell_type": "code",
   "execution_count": 10,
   "id": "ecec274c",
   "metadata": {},
   "outputs": [],
   "source": [
    "li = [1,2,3,4,15]"
   ]
  },
  {
   "cell_type": "code",
   "execution_count": 11,
   "id": "518cefd0",
   "metadata": {},
   "outputs": [],
   "source": [
    "s4 = frozenset(li)"
   ]
  },
  {
   "cell_type": "code",
   "execution_count": 12,
   "id": "ab5185be",
   "metadata": {},
   "outputs": [
    {
     "data": {
      "text/plain": [
       "frozenset({1, 2, 3, 4, 15})"
      ]
     },
     "execution_count": 12,
     "metadata": {},
     "output_type": "execute_result"
    }
   ],
   "source": [
    "s4"
   ]
  },
  {
   "cell_type": "code",
   "execution_count": 13,
   "id": "3cbf8eae",
   "metadata": {},
   "outputs": [
    {
     "ename": "TypeError",
     "evalue": "'frozenset' object is not subscriptable",
     "output_type": "error",
     "traceback": [
      "\u001b[1;31m---------------------------------------------------------------------------\u001b[0m",
      "\u001b[1;31mTypeError\u001b[0m                                 Traceback (most recent call last)",
      "Cell \u001b[1;32mIn[13], line 1\u001b[0m\n\u001b[1;32m----> 1\u001b[0m s4[\u001b[38;5;241m0\u001b[39m]\n",
      "\u001b[1;31mTypeError\u001b[0m: 'frozenset' object is not subscriptable"
     ]
    }
   ],
   "source": [
    "s4[0]"
   ]
  },
  {
   "cell_type": "code",
   "execution_count": 14,
   "id": "691a6e72",
   "metadata": {},
   "outputs": [
    {
     "data": {
      "text/plain": [
       "frozenset({1, 2, 3, 4, 5, 10, 15})"
      ]
     },
     "execution_count": 14,
     "metadata": {},
     "output_type": "execute_result"
    }
   ],
   "source": [
    "s3.union(s4)"
   ]
  },
  {
   "cell_type": "code",
   "execution_count": 15,
   "id": "5a572261",
   "metadata": {},
   "outputs": [
    {
     "data": {
      "text/plain": [
       "frozenset({1, 2, 3, 4})"
      ]
     },
     "execution_count": 15,
     "metadata": {},
     "output_type": "execute_result"
    }
   ],
   "source": [
    "s3.intersection(s4)"
   ]
  },
  {
   "cell_type": "code",
   "execution_count": 16,
   "id": "9a4ef63c",
   "metadata": {},
   "outputs": [],
   "source": [
    "s = 'data science'"
   ]
  },
  {
   "cell_type": "code",
   "execution_count": 17,
   "id": "0600b815",
   "metadata": {},
   "outputs": [
    {
     "data": {
      "text/plain": [
       "'data science'"
      ]
     },
     "execution_count": 17,
     "metadata": {},
     "output_type": "execute_result"
    }
   ],
   "source": [
    "s"
   ]
  },
  {
   "cell_type": "code",
   "execution_count": 18,
   "id": "909c2a41",
   "metadata": {},
   "outputs": [],
   "source": [
    "s5 = frozenset(s)"
   ]
  },
  {
   "cell_type": "code",
   "execution_count": 19,
   "id": "d4b130a9",
   "metadata": {},
   "outputs": [
    {
     "data": {
      "text/plain": [
       "frozenset({' ', 'a', 'c', 'd', 'e', 'i', 'n', 's', 't'})"
      ]
     },
     "execution_count": 19,
     "metadata": {},
     "output_type": "execute_result"
    }
   ],
   "source": [
    "s5"
   ]
  },
  {
   "cell_type": "code",
   "execution_count": 24,
   "id": "84b737b5",
   "metadata": {},
   "outputs": [
    {
     "data": {
      "text/plain": [
       "[(' ',), ('d',), ('i',), ('e',), ('n',), ('a',), ('s',), ('t',), ('c',)]"
      ]
     },
     "execution_count": 24,
     "metadata": {},
     "output_type": "execute_result"
    }
   ],
   "source": [
    "[tuple(x) for x in s5]"
   ]
  },
  {
   "cell_type": "code",
   "execution_count": 25,
   "id": "1173f14d",
   "metadata": {},
   "outputs": [
    {
     "data": {
      "text/plain": [
       "[(' ',), ('d',), ('i',), ('e',), ('n',), ('a',), ('s',), ('t',), ('c',)]"
      ]
     },
     "execution_count": 25,
     "metadata": {},
     "output_type": "execute_result"
    }
   ],
   "source": [
    "[tuple(x) for x in s5]"
   ]
  },
  {
   "cell_type": "code",
   "execution_count": 26,
   "id": "a619ec61",
   "metadata": {},
   "outputs": [
    {
     "data": {
      "text/plain": [
       "[{' '}, {'d'}, {'i'}, {'e'}, {'n'}, {'a'}, {'s'}, {'t'}, {'c'}]"
      ]
     },
     "execution_count": 26,
     "metadata": {},
     "output_type": "execute_result"
    }
   ],
   "source": [
    "[set(x) for x in s5]"
   ]
  },
  {
   "cell_type": "code",
   "execution_count": null,
   "id": "f57f2b43",
   "metadata": {},
   "outputs": [],
   "source": []
  }
 ],
 "metadata": {
  "kernelspec": {
   "display_name": "Python 3 (ipykernel)",
   "language": "python",
   "name": "python3"
  },
  "language_info": {
   "codemirror_mode": {
    "name": "ipython",
    "version": 3
   },
   "file_extension": ".py",
   "mimetype": "text/x-python",
   "name": "python",
   "nbconvert_exporter": "python",
   "pygments_lexer": "ipython3",
   "version": "3.11.5"
  }
 },
 "nbformat": 4,
 "nbformat_minor": 5
}
