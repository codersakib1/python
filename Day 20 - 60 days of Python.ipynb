{
 "cells": [
  {
   "cell_type": "markdown",
   "id": "5aace187",
   "metadata": {},
   "source": [
    "# Array "
   ]
  },
  {
   "cell_type": "code",
   "execution_count": null,
   "id": "e20b72bb",
   "metadata": {},
   "outputs": [],
   "source": [
    "An array is a special variable, which can hold more than one value\n",
    "at a time\n",
    "\n",
    "import array\n",
    "arrayName = array(typecode, [initializers])"
   ]
  },
  {
   "cell_type": "code",
   "execution_count": 1,
   "id": "a16ed325",
   "metadata": {},
   "outputs": [],
   "source": [
    "import array as ar"
   ]
  },
  {
   "cell_type": "code",
   "execution_count": 4,
   "id": "deb1678e",
   "metadata": {},
   "outputs": [],
   "source": [
    "ar1 = ar.array('i',[1,2,3,5,10])"
   ]
  },
  {
   "cell_type": "code",
   "execution_count": 5,
   "id": "b4e214d5",
   "metadata": {},
   "outputs": [
    {
     "data": {
      "text/plain": [
       "array('i', [1, 2, 3, 5, 10])"
      ]
     },
     "execution_count": 5,
     "metadata": {},
     "output_type": "execute_result"
    }
   ],
   "source": [
    "ar1"
   ]
  },
  {
   "cell_type": "code",
   "execution_count": 7,
   "id": "abe2f878",
   "metadata": {},
   "outputs": [],
   "source": [
    "ar1 = ar.array('f',[1,2,3,5,10])"
   ]
  },
  {
   "cell_type": "code",
   "execution_count": 8,
   "id": "7f1d1be2",
   "metadata": {},
   "outputs": [
    {
     "data": {
      "text/plain": [
       "array('f', [1.0, 2.0, 3.0, 5.0, 10.0])"
      ]
     },
     "execution_count": 8,
     "metadata": {},
     "output_type": "execute_result"
    }
   ],
   "source": [
    "ar1"
   ]
  },
  {
   "cell_type": "code",
   "execution_count": 9,
   "id": "4217ce8a",
   "metadata": {},
   "outputs": [
    {
     "data": {
      "text/plain": [
       "1.0"
      ]
     },
     "execution_count": 9,
     "metadata": {},
     "output_type": "execute_result"
    }
   ],
   "source": [
    "ar1[0]"
   ]
  },
  {
   "cell_type": "code",
   "execution_count": 10,
   "id": "58936c53",
   "metadata": {},
   "outputs": [],
   "source": [
    "ar1[0]=15 #changeable"
   ]
  },
  {
   "cell_type": "code",
   "execution_count": 11,
   "id": "982ed998",
   "metadata": {},
   "outputs": [
    {
     "data": {
      "text/plain": [
       "array('f', [15.0, 2.0, 3.0, 5.0, 10.0])"
      ]
     },
     "execution_count": 11,
     "metadata": {},
     "output_type": "execute_result"
    }
   ],
   "source": [
    "ar1"
   ]
  },
  {
   "cell_type": "code",
   "execution_count": 12,
   "id": "70c5b1e2",
   "metadata": {},
   "outputs": [
    {
     "data": {
      "text/plain": [
       "array('f', [3.0])"
      ]
     },
     "execution_count": 12,
     "metadata": {},
     "output_type": "execute_result"
    }
   ],
   "source": [
    "ar1[2:3]"
   ]
  },
  {
   "cell_type": "code",
   "execution_count": 13,
   "id": "637de0a5",
   "metadata": {},
   "outputs": [],
   "source": [
    "ar1.append(8)"
   ]
  },
  {
   "cell_type": "code",
   "execution_count": 14,
   "id": "206caacc",
   "metadata": {},
   "outputs": [
    {
     "data": {
      "text/plain": [
       "array('f', [15.0, 2.0, 3.0, 5.0, 10.0, 8.0])"
      ]
     },
     "execution_count": 14,
     "metadata": {},
     "output_type": "execute_result"
    }
   ],
   "source": [
    "ar1"
   ]
  },
  {
   "cell_type": "code",
   "execution_count": 16,
   "id": "2183234b",
   "metadata": {},
   "outputs": [],
   "source": [
    "del ar1[-1]"
   ]
  },
  {
   "cell_type": "code",
   "execution_count": 17,
   "id": "85c4e757",
   "metadata": {},
   "outputs": [
    {
     "data": {
      "text/plain": [
       "array('f', [15.0, 2.0, 3.0, 5.0, 10.0])"
      ]
     },
     "execution_count": 17,
     "metadata": {},
     "output_type": "execute_result"
    }
   ],
   "source": [
    "ar1"
   ]
  },
  {
   "cell_type": "code",
   "execution_count": 18,
   "id": "370eed14",
   "metadata": {},
   "outputs": [
    {
     "data": {
      "text/plain": [
       "5"
      ]
     },
     "execution_count": 18,
     "metadata": {},
     "output_type": "execute_result"
    }
   ],
   "source": [
    "len(ar1)"
   ]
  },
  {
   "cell_type": "code",
   "execution_count": 19,
   "id": "3f6e34d6",
   "metadata": {},
   "outputs": [],
   "source": [
    "ar1.reverse()"
   ]
  },
  {
   "cell_type": "code",
   "execution_count": 20,
   "id": "c8fdb916",
   "metadata": {},
   "outputs": [
    {
     "data": {
      "text/plain": [
       "array('f', [10.0, 5.0, 3.0, 2.0, 15.0])"
      ]
     },
     "execution_count": 20,
     "metadata": {},
     "output_type": "execute_result"
    }
   ],
   "source": [
    "ar1"
   ]
  },
  {
   "cell_type": "code",
   "execution_count": 21,
   "id": "93c7fd9f",
   "metadata": {},
   "outputs": [
    {
     "data": {
      "text/plain": [
       "1"
      ]
     },
     "execution_count": 21,
     "metadata": {},
     "output_type": "execute_result"
    }
   ],
   "source": [
    "ar1.count(5)"
   ]
  },
  {
   "cell_type": "code",
   "execution_count": 23,
   "id": "a3c74575",
   "metadata": {},
   "outputs": [
    {
     "data": {
      "text/plain": [
       "0"
      ]
     },
     "execution_count": 23,
     "metadata": {},
     "output_type": "execute_result"
    }
   ],
   "source": [
    "ar1.index(10)"
   ]
  },
  {
   "cell_type": "code",
   "execution_count": 24,
   "id": "24db3a1b",
   "metadata": {},
   "outputs": [
    {
     "data": {
      "text/plain": [
       "2.0"
      ]
     },
     "execution_count": 24,
     "metadata": {},
     "output_type": "execute_result"
    }
   ],
   "source": [
    "ar1.pop(3) #index number"
   ]
  },
  {
   "cell_type": "code",
   "execution_count": 25,
   "id": "4a2e99bc",
   "metadata": {},
   "outputs": [
    {
     "data": {
      "text/plain": [
       "array('f', [10.0, 5.0, 3.0, 15.0])"
      ]
     },
     "execution_count": 25,
     "metadata": {},
     "output_type": "execute_result"
    }
   ],
   "source": [
    "ar1"
   ]
  },
  {
   "cell_type": "code",
   "execution_count": 26,
   "id": "9467f7d9",
   "metadata": {},
   "outputs": [],
   "source": [
    "ar1.remove(3)"
   ]
  },
  {
   "cell_type": "code",
   "execution_count": 27,
   "id": "aad01c4c",
   "metadata": {},
   "outputs": [
    {
     "data": {
      "text/plain": [
       "array('f', [10.0, 5.0, 15.0])"
      ]
     },
     "execution_count": 27,
     "metadata": {},
     "output_type": "execute_result"
    }
   ],
   "source": [
    "ar1"
   ]
  },
  {
   "cell_type": "code",
   "execution_count": 31,
   "id": "582ddd9a",
   "metadata": {
    "scrolled": false
   },
   "outputs": [
    {
     "name": "stdout",
     "output_type": "stream",
     "text": [
      "5\n",
      "1\n",
      "1\n",
      "2\n",
      "2\n",
      "3\n",
      "3\n",
      "6\n",
      "6\n",
      "7\n",
      "7\n"
     ]
    }
   ],
   "source": [
    "r =ar.array('i',[])\n",
    "\n",
    "items = int(input())\n",
    "for i in range(items):\n",
    "    val = int(input())\n",
    "    r.append(val)\n",
    "    print(val)"
   ]
  },
  {
   "cell_type": "code",
   "execution_count": 32,
   "id": "ee4d756c",
   "metadata": {},
   "outputs": [
    {
     "data": {
      "text/plain": [
       "array('i', [1, 2, 3, 6, 7])"
      ]
     },
     "execution_count": 32,
     "metadata": {},
     "output_type": "execute_result"
    }
   ],
   "source": [
    "r"
   ]
  },
  {
   "cell_type": "code",
   "execution_count": 35,
   "id": "1847ca52",
   "metadata": {},
   "outputs": [
    {
     "name": "stdout",
     "output_type": "stream",
     "text": [
      "3\n",
      "12\n",
      "15\n",
      "20\n",
      "array('i', [12, 15, 20])\n"
     ]
    }
   ],
   "source": [
    "r =ar.array('i',[])\n",
    "\n",
    "items = int(input())\n",
    "for i in range(items):\n",
    "    val = int(input())\n",
    "    r.append(val)\n",
    "print(r)"
   ]
  },
  {
   "cell_type": "code",
   "execution_count": null,
   "id": "f1ba1912",
   "metadata": {},
   "outputs": [],
   "source": []
  },
  {
   "cell_type": "code",
   "execution_count": null,
   "id": "aad0c0ad",
   "metadata": {},
   "outputs": [],
   "source": [
    "3"
   ]
  }
 ],
 "metadata": {
  "kernelspec": {
   "display_name": "Python 3 (ipykernel)",
   "language": "python",
   "name": "python3"
  },
  "language_info": {
   "codemirror_mode": {
    "name": "ipython",
    "version": 3
   },
   "file_extension": ".py",
   "mimetype": "text/x-python",
   "name": "python",
   "nbconvert_exporter": "python",
   "pygments_lexer": "ipython3",
   "version": "3.11.5"
  }
 },
 "nbformat": 4,
 "nbformat_minor": 5
}
