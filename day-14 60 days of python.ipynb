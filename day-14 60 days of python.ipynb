{
 "cells": [
  {
   "cell_type": "markdown",
   "id": "259de4bd",
   "metadata": {},
   "source": [
    "# List comprehension : Elegant way to create lists"
   ]
  },
  {
   "cell_type": "code",
   "execution_count": null,
   "id": "bf8ece34",
   "metadata": {},
   "outputs": [],
   "source": [
    "List comprehension is an elegant and concise way to create a new list from an existing list in\n",
    "Python. A list comprehension consists of an expression by for statement inside square brackets.\n",
    "\n",
    "Syntax: newlist = [Expression for item in iterable if condition == True]\n",
    "          newlist = [x for x in items]"
   ]
  },
  {
   "cell_type": "code",
   "execution_count": 2,
   "id": "f0f98d47",
   "metadata": {},
   "outputs": [
    {
     "data": {
      "text/plain": [
       "[0, 1, 2, 3, 4, 5, 6, 7, 8, 9]"
      ]
     },
     "execution_count": 2,
     "metadata": {},
     "output_type": "execute_result"
    }
   ],
   "source": [
    "list1 = [] #empty list\n",
    "\n",
    "for x in range(10):\n",
    "    list1.append(x)\n",
    "list1"
   ]
  },
  {
   "cell_type": "code",
   "execution_count": 3,
   "id": "158a7a24",
   "metadata": {},
   "outputs": [
    {
     "data": {
      "text/plain": [
       "[0, 1, 2, 3, 4, 5, 6, 7, 8, 9]"
      ]
     },
     "execution_count": 3,
     "metadata": {},
     "output_type": "execute_result"
    }
   ],
   "source": [
    "list2 = [x for x in range(10)]\n",
    "list2"
   ]
  },
  {
   "cell_type": "code",
   "execution_count": 5,
   "id": "f7b24e0c",
   "metadata": {},
   "outputs": [
    {
     "data": {
      "text/plain": [
       "[0, 2, 4, 6, 8]"
      ]
     },
     "execution_count": 5,
     "metadata": {},
     "output_type": "execute_result"
    }
   ],
   "source": [
    "list3 = [] #empty list\n",
    "\n",
    "for x in range(10):\n",
    "    if x%2==0:\n",
    "        list3.append(x)\n",
    "    \n",
    "list3"
   ]
  },
  {
   "cell_type": "code",
   "execution_count": 6,
   "id": "fb3bbe64",
   "metadata": {},
   "outputs": [
    {
     "data": {
      "text/plain": [
       "[0, 2, 4, 6, 8]"
      ]
     },
     "execution_count": 6,
     "metadata": {},
     "output_type": "execute_result"
    }
   ],
   "source": [
    "list4 = [x for x in range(10) if x%2 ==0]\n",
    "list4"
   ]
  },
  {
   "cell_type": "code",
   "execution_count": 7,
   "id": "b9f3e9d8",
   "metadata": {},
   "outputs": [
    {
     "data": {
      "text/plain": [
       "[1, 3, 5, 7, 9]"
      ]
     },
     "execution_count": 7,
     "metadata": {},
     "output_type": "execute_result"
    }
   ],
   "source": [
    "list5 = [x for x in range(10) if x%2 ==1]\n",
    "list5"
   ]
  },
  {
   "cell_type": "code",
   "execution_count": 13,
   "id": "1e28f02a",
   "metadata": {},
   "outputs": [],
   "source": [
    "#Iteration through list\n",
    "\n",
    "list6 =['ai','ds',1,2,5,6,9]\n",
    "list7 =[x for x in list6]"
   ]
  },
  {
   "cell_type": "code",
   "execution_count": 14,
   "id": "486ddca9",
   "metadata": {},
   "outputs": [
    {
     "data": {
      "text/plain": [
       "[0, 1, 2, 3, 4, 5, 6, 7, 8, 9]"
      ]
     },
     "execution_count": 14,
     "metadata": {},
     "output_type": "execute_result"
    }
   ],
   "source": [
    "# List membership testing\n",
    "\n",
    "list2"
   ]
  },
  {
   "cell_type": "code",
   "execution_count": 15,
   "id": "67e18ede",
   "metadata": {},
   "outputs": [
    {
     "data": {
      "text/plain": [
       "True"
      ]
     },
     "execution_count": 15,
     "metadata": {},
     "output_type": "execute_result"
    }
   ],
   "source": [
    "9 in list2"
   ]
  },
  {
   "cell_type": "code",
   "execution_count": 16,
   "id": "e62aa4a1",
   "metadata": {},
   "outputs": [
    {
     "data": {
      "text/plain": [
       "False"
      ]
     },
     "execution_count": 16,
     "metadata": {},
     "output_type": "execute_result"
    }
   ],
   "source": [
    "10 in list2"
   ]
  },
  {
   "cell_type": "code",
   "execution_count": null,
   "id": "735d2b7f",
   "metadata": {},
   "outputs": [],
   "source": []
  },
  {
   "cell_type": "code",
   "execution_count": null,
   "id": "b1a2c912",
   "metadata": {},
   "outputs": [],
   "source": []
  },
  {
   "cell_type": "code",
   "execution_count": null,
   "id": "1c7d8fef",
   "metadata": {},
   "outputs": [],
   "source": []
  }
 ],
 "metadata": {
  "kernelspec": {
   "display_name": "Python 3 (ipykernel)",
   "language": "python",
   "name": "python3"
  },
  "language_info": {
   "codemirror_mode": {
    "name": "ipython",
    "version": 3
   },
   "file_extension": ".py",
   "mimetype": "text/x-python",
   "name": "python",
   "nbconvert_exporter": "python",
   "pygments_lexer": "ipython3",
   "version": "3.11.5"
  }
 },
 "nbformat": 4,
 "nbformat_minor": 5
}
