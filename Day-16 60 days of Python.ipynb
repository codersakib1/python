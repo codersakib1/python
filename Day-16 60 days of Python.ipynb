{
 "cells": [
  {
   "cell_type": "markdown",
   "id": "13cdf390",
   "metadata": {},
   "source": [
    "# Tuple in Python"
   ]
  },
  {
   "cell_type": "code",
   "execution_count": 1,
   "id": "dd7cfc30",
   "metadata": {},
   "outputs": [],
   "source": [
    "tup1 =()"
   ]
  },
  {
   "cell_type": "code",
   "execution_count": 2,
   "id": "cf3259fb",
   "metadata": {},
   "outputs": [
    {
     "data": {
      "text/plain": [
       "tuple"
      ]
     },
     "execution_count": 2,
     "metadata": {},
     "output_type": "execute_result"
    }
   ],
   "source": [
    "type(tup1)"
   ]
  },
  {
   "cell_type": "code",
   "execution_count": 3,
   "id": "09e3998c",
   "metadata": {},
   "outputs": [],
   "source": [
    "tup1 =('ds', 'rony mia', 1,2,3,4,6, [10,20,100], True)"
   ]
  },
  {
   "cell_type": "code",
   "execution_count": 4,
   "id": "ffb16d72",
   "metadata": {},
   "outputs": [
    {
     "data": {
      "text/plain": [
       "('ds', 'rony mia', 1, 2, 3, 4, 6, [10, 20, 100], True)"
      ]
     },
     "execution_count": 4,
     "metadata": {},
     "output_type": "execute_result"
    }
   ],
   "source": [
    "tup1"
   ]
  },
  {
   "cell_type": "code",
   "execution_count": 5,
   "id": "b04ce17a",
   "metadata": {},
   "outputs": [
    {
     "data": {
      "text/plain": [
       "'rony mia'"
      ]
     },
     "execution_count": 5,
     "metadata": {},
     "output_type": "execute_result"
    }
   ],
   "source": [
    "tup1[1]"
   ]
  },
  {
   "cell_type": "code",
   "execution_count": 6,
   "id": "7d6cd559",
   "metadata": {},
   "outputs": [
    {
     "data": {
      "text/plain": [
       "True"
      ]
     },
     "execution_count": 6,
     "metadata": {},
     "output_type": "execute_result"
    }
   ],
   "source": [
    "tup1[-1]"
   ]
  },
  {
   "cell_type": "code",
   "execution_count": 7,
   "id": "78c5bbb2",
   "metadata": {},
   "outputs": [
    {
     "data": {
      "text/plain": [
       "(1, 2, 3, 4)"
      ]
     },
     "execution_count": 7,
     "metadata": {},
     "output_type": "execute_result"
    }
   ],
   "source": [
    "tup1[2:6]"
   ]
  },
  {
   "cell_type": "code",
   "execution_count": 8,
   "id": "2ac877ff",
   "metadata": {},
   "outputs": [],
   "source": [
    "tup2 =['rony molla']"
   ]
  },
  {
   "cell_type": "code",
   "execution_count": 9,
   "id": "62e0edb4",
   "metadata": {},
   "outputs": [
    {
     "data": {
      "text/plain": [
       "['rony molla']"
      ]
     },
     "execution_count": 9,
     "metadata": {},
     "output_type": "execute_result"
    }
   ],
   "source": [
    "tup2"
   ]
  },
  {
   "cell_type": "code",
   "execution_count": 10,
   "id": "1f1e66a6",
   "metadata": {},
   "outputs": [
    {
     "data": {
      "text/plain": [
       "list"
      ]
     },
     "execution_count": 10,
     "metadata": {},
     "output_type": "execute_result"
    }
   ],
   "source": [
    "type(tup2)"
   ]
  },
  {
   "cell_type": "code",
   "execution_count": 11,
   "id": "4269cfdb",
   "metadata": {},
   "outputs": [
    {
     "data": {
      "text/plain": [
       "'rony molla'"
      ]
     },
     "execution_count": 11,
     "metadata": {},
     "output_type": "execute_result"
    }
   ],
   "source": [
    "tup2 = ('rony molla')\n",
    "tup2"
   ]
  },
  {
   "cell_type": "code",
   "execution_count": 12,
   "id": "0f7f8c72",
   "metadata": {},
   "outputs": [
    {
     "data": {
      "text/plain": [
       "str"
      ]
     },
     "execution_count": 12,
     "metadata": {},
     "output_type": "execute_result"
    }
   ],
   "source": [
    "type(tup2)"
   ]
  },
  {
   "cell_type": "code",
   "execution_count": 13,
   "id": "ce384adf",
   "metadata": {},
   "outputs": [
    {
     "data": {
      "text/plain": [
       "('rony molla',)"
      ]
     },
     "execution_count": 13,
     "metadata": {},
     "output_type": "execute_result"
    }
   ],
   "source": [
    "tup2 = ('rony molla',)\n",
    "tup2"
   ]
  },
  {
   "cell_type": "code",
   "execution_count": 14,
   "id": "d6175a32",
   "metadata": {},
   "outputs": [
    {
     "data": {
      "text/plain": [
       "tuple"
      ]
     },
     "execution_count": 14,
     "metadata": {},
     "output_type": "execute_result"
    }
   ],
   "source": [
    "type(tup2)"
   ]
  },
  {
   "cell_type": "code",
   "execution_count": 15,
   "id": "0b966665",
   "metadata": {},
   "outputs": [],
   "source": [
    "#tuple to list\n",
    "l = list(tup2)"
   ]
  },
  {
   "cell_type": "code",
   "execution_count": 16,
   "id": "ea3561ea",
   "metadata": {},
   "outputs": [
    {
     "data": {
      "text/plain": [
       "['rony molla']"
      ]
     },
     "execution_count": 16,
     "metadata": {},
     "output_type": "execute_result"
    }
   ],
   "source": [
    "l"
   ]
  },
  {
   "cell_type": "code",
   "execution_count": 17,
   "id": "cc77c146",
   "metadata": {},
   "outputs": [
    {
     "data": {
      "text/plain": [
       "list"
      ]
     },
     "execution_count": 17,
     "metadata": {},
     "output_type": "execute_result"
    }
   ],
   "source": [
    "type(l)"
   ]
  },
  {
   "cell_type": "code",
   "execution_count": 18,
   "id": "3106e4ac",
   "metadata": {},
   "outputs": [],
   "source": [
    "l.append('NSTU')"
   ]
  },
  {
   "cell_type": "code",
   "execution_count": 19,
   "id": "4159442a",
   "metadata": {},
   "outputs": [
    {
     "data": {
      "text/plain": [
       "['rony molla', 'NSTU']"
      ]
     },
     "execution_count": 19,
     "metadata": {},
     "output_type": "execute_result"
    }
   ],
   "source": [
    "l"
   ]
  },
  {
   "cell_type": "code",
   "execution_count": 21,
   "id": "d06a0249",
   "metadata": {},
   "outputs": [],
   "source": [
    "tup2 = tuple(l)"
   ]
  },
  {
   "cell_type": "code",
   "execution_count": 23,
   "id": "43c508b4",
   "metadata": {},
   "outputs": [
    {
     "data": {
      "text/plain": [
       "tuple"
      ]
     },
     "execution_count": 23,
     "metadata": {},
     "output_type": "execute_result"
    }
   ],
   "source": [
    "type(tup2)"
   ]
  },
  {
   "cell_type": "code",
   "execution_count": 24,
   "id": "31645998",
   "metadata": {},
   "outputs": [
    {
     "data": {
      "text/plain": [
       "('rony molla', 'NSTU')"
      ]
     },
     "execution_count": 24,
     "metadata": {},
     "output_type": "execute_result"
    }
   ],
   "source": [
    "tup2"
   ]
  },
  {
   "cell_type": "code",
   "execution_count": 26,
   "id": "1d68d069",
   "metadata": {},
   "outputs": [],
   "source": [
    "tup3 = tuple([1,2,3,4])"
   ]
  },
  {
   "cell_type": "code",
   "execution_count": 27,
   "id": "4c87e1d5",
   "metadata": {},
   "outputs": [
    {
     "data": {
      "text/plain": [
       "(1, 2, 3, 4)"
      ]
     },
     "execution_count": 27,
     "metadata": {},
     "output_type": "execute_result"
    }
   ],
   "source": [
    "tup3"
   ]
  },
  {
   "cell_type": "code",
   "execution_count": 28,
   "id": "278af33f",
   "metadata": {},
   "outputs": [],
   "source": [
    "tup4 = 10,30,70, 'rony mia'"
   ]
  },
  {
   "cell_type": "code",
   "execution_count": 29,
   "id": "8c18c632",
   "metadata": {},
   "outputs": [
    {
     "data": {
      "text/plain": [
       "tuple"
      ]
     },
     "execution_count": 29,
     "metadata": {},
     "output_type": "execute_result"
    }
   ],
   "source": [
    "type(tup4)"
   ]
  },
  {
   "cell_type": "code",
   "execution_count": 30,
   "id": "d277ed2d",
   "metadata": {},
   "outputs": [
    {
     "data": {
      "text/plain": [
       "(10, 30, 70, 'rony mia')"
      ]
     },
     "execution_count": 30,
     "metadata": {},
     "output_type": "execute_result"
    }
   ],
   "source": [
    "tup4"
   ]
  },
  {
   "cell_type": "code",
   "execution_count": 31,
   "id": "3ea661ff",
   "metadata": {},
   "outputs": [
    {
     "data": {
      "text/plain": [
       "(1, 2, 3, 4)"
      ]
     },
     "execution_count": 31,
     "metadata": {},
     "output_type": "execute_result"
    }
   ],
   "source": [
    "tup3"
   ]
  },
  {
   "cell_type": "code",
   "execution_count": 32,
   "id": "ba6de52c",
   "metadata": {},
   "outputs": [
    {
     "data": {
      "text/plain": [
       "(1, 2, 3, 4, 10, 30, 70, 'rony mia')"
      ]
     },
     "execution_count": 32,
     "metadata": {},
     "output_type": "execute_result"
    }
   ],
   "source": [
    "tup3+tup4   #tuple contakination"
   ]
  },
  {
   "cell_type": "code",
   "execution_count": 33,
   "id": "650b9d79",
   "metadata": {},
   "outputs": [
    {
     "data": {
      "text/plain": [
       "(1, 2, 3, 4)"
      ]
     },
     "execution_count": 33,
     "metadata": {},
     "output_type": "execute_result"
    }
   ],
   "source": [
    "tup3"
   ]
  },
  {
   "cell_type": "code",
   "execution_count": 37,
   "id": "dfee6e51",
   "metadata": {},
   "outputs": [
    {
     "data": {
      "text/plain": [
       "(1, 2, 3, 4, 1, 2, 3, 4, 1, 2, 3, 4, 1, 2, 3, 4)"
      ]
     },
     "execution_count": 37,
     "metadata": {},
     "output_type": "execute_result"
    }
   ],
   "source": [
    "tup3*4"
   ]
  },
  {
   "cell_type": "markdown",
   "id": "957aabb2",
   "metadata": {},
   "source": [
    "# Methods"
   ]
  },
  {
   "cell_type": "code",
   "execution_count": 39,
   "id": "52d0473c",
   "metadata": {},
   "outputs": [
    {
     "data": {
      "text/plain": [
       "1"
      ]
     },
     "execution_count": 39,
     "metadata": {},
     "output_type": "execute_result"
    }
   ],
   "source": [
    "tup3.count(4)"
   ]
  },
  {
   "cell_type": "code",
   "execution_count": 40,
   "id": "ff28975e",
   "metadata": {},
   "outputs": [
    {
     "data": {
      "text/plain": [
       "(1, 2, 3, 4)"
      ]
     },
     "execution_count": 40,
     "metadata": {},
     "output_type": "execute_result"
    }
   ],
   "source": [
    "tup3"
   ]
  },
  {
   "cell_type": "code",
   "execution_count": 41,
   "id": "f6d29b01",
   "metadata": {},
   "outputs": [
    {
     "data": {
      "text/plain": [
       "3"
      ]
     },
     "execution_count": 41,
     "metadata": {},
     "output_type": "execute_result"
    }
   ],
   "source": [
    "tup3.index(4)"
   ]
  },
  {
   "cell_type": "markdown",
   "id": "28249cc8",
   "metadata": {},
   "source": [
    "# Member ship"
   ]
  },
  {
   "cell_type": "code",
   "execution_count": 42,
   "id": "bdf84cc4",
   "metadata": {},
   "outputs": [
    {
     "data": {
      "text/plain": [
       "True"
      ]
     },
     "execution_count": 42,
     "metadata": {},
     "output_type": "execute_result"
    }
   ],
   "source": [
    "'rony mia' in tup4"
   ]
  },
  {
   "cell_type": "code",
   "execution_count": 43,
   "id": "d3ce96f9",
   "metadata": {},
   "outputs": [
    {
     "data": {
      "text/plain": [
       "(10, 30, 70, 'rony mia')"
      ]
     },
     "execution_count": 43,
     "metadata": {},
     "output_type": "execute_result"
    }
   ],
   "source": [
    "tup4"
   ]
  },
  {
   "cell_type": "code",
   "execution_count": 44,
   "id": "519277fc",
   "metadata": {},
   "outputs": [
    {
     "data": {
      "text/plain": [
       "False"
      ]
     },
     "execution_count": 44,
     "metadata": {},
     "output_type": "execute_result"
    }
   ],
   "source": [
    "'Researcher' in tup4"
   ]
  },
  {
   "cell_type": "code",
   "execution_count": 45,
   "id": "64e8c3b1",
   "metadata": {},
   "outputs": [
    {
     "data": {
      "text/plain": [
       "(1, 2, 3, 4)"
      ]
     },
     "execution_count": 45,
     "metadata": {},
     "output_type": "execute_result"
    }
   ],
   "source": [
    "tup3"
   ]
  },
  {
   "cell_type": "code",
   "execution_count": 48,
   "id": "2a7b7c2c",
   "metadata": {},
   "outputs": [
    {
     "data": {
      "text/plain": [
       "('rony molla', 'NSTU')"
      ]
     },
     "execution_count": 48,
     "metadata": {},
     "output_type": "execute_result"
    }
   ],
   "source": [
    "tup2"
   ]
  },
  {
   "cell_type": "code",
   "execution_count": 49,
   "id": "619bcf25",
   "metadata": {},
   "outputs": [
    {
     "name": "stdout",
     "output_type": "stream",
     "text": [
      "rony molla\n",
      "NSTU\n"
     ]
    }
   ],
   "source": [
    "for i in tup2:\n",
    "    print(i)"
   ]
  },
  {
   "cell_type": "code",
   "execution_count": null,
   "id": "042b9cb9",
   "metadata": {},
   "outputs": [],
   "source": []
  }
 ],
 "metadata": {
  "kernelspec": {
   "display_name": "Python 3 (ipykernel)",
   "language": "python",
   "name": "python3"
  },
  "language_info": {
   "codemirror_mode": {
    "name": "ipython",
    "version": 3
   },
   "file_extension": ".py",
   "mimetype": "text/x-python",
   "name": "python",
   "nbconvert_exporter": "python",
   "pygments_lexer": "ipython3",
   "version": "3.11.5"
  }
 },
 "nbformat": 4,
 "nbformat_minor": 5
}
