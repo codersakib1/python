{
 "cells": [
  {
   "cell_type": "markdown",
   "id": "870921a6",
   "metadata": {},
   "source": [
    "# Operators"
   ]
  },
  {
   "cell_type": "code",
   "execution_count": null,
   "id": "646e7e04",
   "metadata": {},
   "outputs": [],
   "source": [
    "Python divides the operators in the folling categories\n",
    "Arithmetic Operator \n",
    "Identity Operators\n",
    "Bitwise Operators\n",
    "Comparison Operators\n",
    "Logical Operators\n",
    "Assigment Operators\n"
   ]
  },
  {
   "cell_type": "code",
   "execution_count": null,
   "id": "67115cb0",
   "metadata": {},
   "outputs": [],
   "source": [
    "#Arithmatic\n",
    "Operator     Name          Exmample \n",
    "+            Addition       x+y\n",
    "-            Subtraction    x-y\n",
    "*            Multiplication x*y\n",
    "/            Division       x/y\n",
    "%            Modulus       x%y\n",
    "**           Exponentiation x**y\n",
    "//           Floor division x//y"
   ]
  },
  {
   "cell_type": "code",
   "execution_count": null,
   "id": "9b3cc4d7",
   "metadata": {},
   "outputs": [],
   "source": [
    "#Identity Operators\n",
    "Operator             Descriptions                                       Exmample \n",
    "is        is-Returns true if both variables are the same object         x is y\n",
    "is not    is not-Returns true if both variables are not the same object x is not y\n"
   ]
  },
  {
   "cell_type": "code",
   "execution_count": null,
   "id": "0fffacd8",
   "metadata": {},
   "outputs": [],
   "source": [
    "#Bitwise Operators\n",
    "Operator    Name       Description\n",
    "&           AND        Sets each bit to 1 if both bits are 1\n",
    "|           OR         Sets each bit to 1 if one of two bits is 1\n",
    "^           XOR        Sets each bit to 1 if only one of two bits is 1\n",
    "~           NOT        Inverts all the bits\n",
    "<<          Zero fill  Shift left by pushing zeros in from the right and \n",
    "           left shift  let the leftmost bits fall o\n",
    ">>         Signed right Shift right by pushing copies of the leftmost bit in from \n",
    "           shift        the left, and let the rightmost bits fall off\n",
    "    \n",
    "\n"
   ]
  },
  {
   "cell_type": "code",
   "execution_count": null,
   "id": "bbea95a7",
   "metadata": {},
   "outputs": [],
   "source": [
    "#Comparison Operators\n",
    "Operator     Name                    Exmample \n",
    "==           Equal                   x== y\n",
    "!=           Not equal               x!=y\n",
    ">           Greater than             x>y\n",
    "<           Less Than                x<y\n",
    ">=         Greater than or equal to  x>=y\n",
    "<=         Less than or equal to     x<=y\n"
   ]
  },
  {
   "cell_type": "code",
   "execution_count": null,
   "id": "1847e308",
   "metadata": {},
   "outputs": [],
   "source": [
    "#Logical Operators\n",
    "Operator     Name                                                        Exmample \n",
    "and          Returns true if statements are true                         x<5 and x <10\n",
    "or           Returns True if one of the statements is true               x<5 or x<4\n",
    "not          Reverse the result, returns False if the not result is true  x<5 and x<10"
   ]
  },
  {
   "cell_type": "code",
   "execution_count": null,
   "id": "a6e60ad5",
   "metadata": {},
   "outputs": [],
   "source": [
    "#Assigment Operators\n",
    "Operator   Exmample     Same As\n",
    "=          x = 5        x = 5\n",
    "+=         x+=3         x= x+3\n",
    "-=         x-=3         x= x-3\n",
    "/=         x/=3         x= x/3\n",
    "%=         x%=3         x= x%3 \n",
    "//=        x//=3        x= x//3\n",
    "**=        x**=3        x= x**3\n",
    "&=         x&=3         x= x&3\n",
    "!=         x!=3        x= x!3\n",
    "^=         x^=3        x= x^3\n",
    ">>=        x>>=3       x= x>>3\n",
    "<<=        x<<=3       x= x<<3"
   ]
  }
 ],
 "metadata": {
  "kernelspec": {
   "display_name": "Python 3 (ipykernel)",
   "language": "python",
   "name": "python3"
  },
  "language_info": {
   "codemirror_mode": {
    "name": "ipython",
    "version": 3
   },
   "file_extension": ".py",
   "mimetype": "text/x-python",
   "name": "python",
   "nbconvert_exporter": "python",
   "pygments_lexer": "ipython3",
   "version": "3.11.5"
  }
 },
 "nbformat": 4,
 "nbformat_minor": 5
}
